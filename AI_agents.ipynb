{
  "nbformat": 4,
  "nbformat_minor": 0,
  "metadata": {
    "colab": {
      "provenance": [],
      "mount_file_id": "1Wn1Ng6pg6OIEbwWcD12u_i2ukLpinp0v",
      "authorship_tag": "ABX9TyNEKMTN7Z84zhGoY03A/w+g",
      "include_colab_link": true
    },
    "kernelspec": {
      "name": "python3",
      "display_name": "Python 3"
    },
    "language_info": {
      "name": "python"
    }
  },
  "cells": [
    {
      "cell_type": "markdown",
      "metadata": {
        "id": "view-in-github",
        "colab_type": "text"
      },
      "source": [
        "<a href=\"https://colab.research.google.com/github/Bhabuk10/AI_agents/blob/main/AI_agents.ipynb\" target=\"_parent\"><img src=\"https://colab.research.google.com/assets/colab-badge.svg\" alt=\"Open In Colab\"/></a>"
      ]
    },
    {
      "cell_type": "code",
      "source": [
        "# Install required packages\n",
        "!pip -q install langchain langchain_core langchain_groq crewai duckduckgo-search crewai[tools]"
      ],
      "metadata": {
        "colab": {
          "base_uri": "https://localhost:8080/"
        },
        "id": "h3uc2Zg1yndz",
        "outputId": "6a0f6a2c-ffc4-45d1-9f13-30c83742f2ad"
      },
      "execution_count": null,
      "outputs": [
        {
          "output_type": "stream",
          "name": "stdout",
          "text": [
            "\u001b[?25l     \u001b[90m━━━━━━━━━━━━━━━━━━━━━━━━━━━━━━━━━━━━━━━━\u001b[0m \u001b[32m0.0/973.5 kB\u001b[0m \u001b[31m?\u001b[0m eta \u001b[36m-:--:--\u001b[0m\r\u001b[2K     \u001b[91m━━━━━\u001b[0m\u001b[91m╸\u001b[0m\u001b[90m━━━━━━━━━━━━━━━━━━━━━━━━━━━━━━━━━━\u001b[0m \u001b[32m143.4/973.5 kB\u001b[0m \u001b[31m4.0 MB/s\u001b[0m eta \u001b[36m0:00:01\u001b[0m\r\u001b[2K     \u001b[90m━━━━━━━━━━━━━━━━━━━━━━━━━━━━━━━━━━━━━━━━\u001b[0m \u001b[32m973.5/973.5 kB\u001b[0m \u001b[31m15.7 MB/s\u001b[0m eta \u001b[36m0:00:00\u001b[0m\n",
            "\u001b[2K     \u001b[90m━━━━━━━━━━━━━━━━━━━━━━━━━━━━━━━━━━━━━━━━\u001b[0m \u001b[32m308.5/308.5 kB\u001b[0m \u001b[31m26.5 MB/s\u001b[0m eta \u001b[36m0:00:00\u001b[0m\n",
            "\u001b[2K     \u001b[90m━━━━━━━━━━━━━━━━━━━━━━━━━━━━━━━━━━━━━━━━\u001b[0m \u001b[32m66.1/66.1 kB\u001b[0m \u001b[31m9.8 MB/s\u001b[0m eta \u001b[36m0:00:00\u001b[0m\n",
            "\u001b[2K     \u001b[90m━━━━━━━━━━━━━━━━━━━━━━━━━━━━━━━━━━━━━━━━\u001b[0m \u001b[32m122.3/122.3 kB\u001b[0m \u001b[31m17.1 MB/s\u001b[0m eta \u001b[36m0:00:00\u001b[0m\n",
            "\u001b[2K     \u001b[90m━━━━━━━━━━━━━━━━━━━━━━━━━━━━━━━━━━━━━━━━\u001b[0m \u001b[32m53.0/53.0 kB\u001b[0m \u001b[31m8.4 MB/s\u001b[0m eta \u001b[36m0:00:00\u001b[0m\n",
            "\u001b[2K     \u001b[90m━━━━━━━━━━━━━━━━━━━━━━━━━━━━━━━━━━━━━━━━\u001b[0m \u001b[32m105.4/105.4 kB\u001b[0m \u001b[31m16.4 MB/s\u001b[0m eta \u001b[36m0:00:00\u001b[0m\n",
            "\u001b[2K     \u001b[90m━━━━━━━━━━━━━━━━━━━━━━━━━━━━━━━━━━━━━━━━\u001b[0m \u001b[32m194.8/194.8 kB\u001b[0m \u001b[31m24.3 MB/s\u001b[0m eta \u001b[36m0:00:00\u001b[0m\n",
            "\u001b[2K     \u001b[90m━━━━━━━━━━━━━━━━━━━━━━━━━━━━━━━━━━━━━━━━\u001b[0m \u001b[32m1.0/1.0 MB\u001b[0m \u001b[31m54.6 MB/s\u001b[0m eta \u001b[36m0:00:00\u001b[0m\n",
            "\u001b[2K     \u001b[90m━━━━━━━━━━━━━━━━━━━━━━━━━━━━━━━━━━━━━━━━\u001b[0m \u001b[32m320.7/320.7 kB\u001b[0m \u001b[31m40.0 MB/s\u001b[0m eta \u001b[36m0:00:00\u001b[0m\n",
            "\u001b[2K     \u001b[90m━━━━━━━━━━━━━━━━━━━━━━━━━━━━━━━━━━━━━━━━\u001b[0m \u001b[32m60.1/60.1 kB\u001b[0m \u001b[31m8.8 MB/s\u001b[0m eta \u001b[36m0:00:00\u001b[0m\n",
            "\u001b[2K     \u001b[90m━━━━━━━━━━━━━━━━━━━━━━━━━━━━━━━━━━━━━━━━\u001b[0m \u001b[32m106.1/106.1 kB\u001b[0m \u001b[31m16.5 MB/s\u001b[0m eta \u001b[36m0:00:00\u001b[0m\n",
            "\u001b[2K     \u001b[90m━━━━━━━━━━━━━━━━━━━━━━━━━━━━━━━━━━━━━━━━\u001b[0m \u001b[32m2.0/2.0 MB\u001b[0m \u001b[31m79.6 MB/s\u001b[0m eta \u001b[36m0:00:00\u001b[0m\n",
            "\u001b[2K     \u001b[90m━━━━━━━━━━━━━━━━━━━━━━━━━━━━━━━━━━━━━━━━\u001b[0m \u001b[32m302.9/302.9 kB\u001b[0m \u001b[31m37.8 MB/s\u001b[0m eta \u001b[36m0:00:00\u001b[0m\n",
            "\u001b[2K     \u001b[90m━━━━━━━━━━━━━━━━━━━━━━━━━━━━━━━━━━━━━━━━\u001b[0m \u001b[32m2.7/2.7 MB\u001b[0m \u001b[31m91.3 MB/s\u001b[0m eta \u001b[36m0:00:00\u001b[0m\n",
            "\u001b[2K     \u001b[90m━━━━━━━━━━━━━━━━━━━━━━━━━━━━━━━━━━━━━━━━\u001b[0m \u001b[32m142.5/142.5 kB\u001b[0m \u001b[31m20.5 MB/s\u001b[0m eta \u001b[36m0:00:00\u001b[0m\n",
            "\u001b[2K     \u001b[90m━━━━━━━━━━━━━━━━━━━━━━━━━━━━━━━━━━━━━━━━\u001b[0m \u001b[32m51.8/51.8 kB\u001b[0m \u001b[31m7.9 MB/s\u001b[0m eta \u001b[36m0:00:00\u001b[0m\n",
            "\u001b[2K     \u001b[90m━━━━━━━━━━━━━━━━━━━━━━━━━━━━━━━━━━━━━━━━\u001b[0m \u001b[32m525.5/525.5 kB\u001b[0m \u001b[31m53.1 MB/s\u001b[0m eta \u001b[36m0:00:00\u001b[0m\n",
            "\u001b[?25h  Preparing metadata (setup.py) ... \u001b[?25l\u001b[?25hdone\n",
            "\u001b[2K     \u001b[90m━━━━━━━━━━━━━━━━━━━━━━━━━━━━━━━━━━━━━━━━\u001b[0m \u001b[32m115.1/115.1 kB\u001b[0m \u001b[31m17.7 MB/s\u001b[0m eta \u001b[36m0:00:00\u001b[0m\n",
            "\u001b[2K     \u001b[90m━━━━━━━━━━━━━━━━━━━━━━━━━━━━━━━━━━━━━━━━\u001b[0m \u001b[32m339.6/339.6 kB\u001b[0m \u001b[31m42.3 MB/s\u001b[0m eta \u001b[36m0:00:00\u001b[0m\n",
            "\u001b[2K     \u001b[90m━━━━━━━━━━━━━━━━━━━━━━━━━━━━━━━━━━━━━━━━\u001b[0m \u001b[32m57.6/57.6 kB\u001b[0m \u001b[31m9.3 MB/s\u001b[0m eta \u001b[36m0:00:00\u001b[0m\n",
            "\u001b[2K     \u001b[90m━━━━━━━━━━━━━━━━━━━━━━━━━━━━━━━━━━━━━━━━\u001b[0m \u001b[32m9.5/9.5 MB\u001b[0m \u001b[31m104.3 MB/s\u001b[0m eta \u001b[36m0:00:00\u001b[0m\n",
            "\u001b[2K     \u001b[90m━━━━━━━━━━━━━━━━━━━━━━━━━━━━━━━━━━━━━━━━\u001b[0m \u001b[32m49.3/49.3 kB\u001b[0m \u001b[31m7.3 MB/s\u001b[0m eta \u001b[36m0:00:00\u001b[0m\n",
            "\u001b[2K     \u001b[90m━━━━━━━━━━━━━━━━━━━━━━━━━━━━━━━━━━━━━━━━\u001b[0m \u001b[32m233.4/233.4 kB\u001b[0m \u001b[31m33.5 MB/s\u001b[0m eta \u001b[36m0:00:00\u001b[0m\n",
            "\u001b[2K     \u001b[90m━━━━━━━━━━━━━━━━━━━━━━━━━━━━━━━━━━━━━━━━\u001b[0m \u001b[32m194.4/194.4 kB\u001b[0m \u001b[31m26.4 MB/s\u001b[0m eta \u001b[36m0:00:00\u001b[0m\n",
            "\u001b[2K     \u001b[90m━━━━━━━━━━━━━━━━━━━━━━━━━━━━━━━━━━━━━━━━\u001b[0m \u001b[32m192.7/192.7 kB\u001b[0m \u001b[31m24.1 MB/s\u001b[0m eta \u001b[36m0:00:00\u001b[0m\n",
            "\u001b[2K     \u001b[90m━━━━━━━━━━━━━━━━━━━━━━━━━━━━━━━━━━━━━━━━\u001b[0m \u001b[32m131.5/131.5 kB\u001b[0m \u001b[31m17.6 MB/s\u001b[0m eta \u001b[36m0:00:00\u001b[0m\n",
            "\u001b[2K     \u001b[90m━━━━━━━━━━━━━━━━━━━━━━━━━━━━━━━━━━━━━━━━\u001b[0m \u001b[32m41.3/41.3 kB\u001b[0m \u001b[31m5.9 MB/s\u001b[0m eta \u001b[36m0:00:00\u001b[0m\n",
            "\u001b[2K     \u001b[90m━━━━━━━━━━━━━━━━━━━━━━━━━━━━━━━━━━━━━━━━\u001b[0m \u001b[32m278.2/278.2 kB\u001b[0m \u001b[31m33.4 MB/s\u001b[0m eta \u001b[36m0:00:00\u001b[0m\n",
            "\u001b[2K     \u001b[90m━━━━━━━━━━━━━━━━━━━━━━━━━━━━━━━━━━━━━━━━\u001b[0m \u001b[32m71.1/71.1 kB\u001b[0m \u001b[31m11.2 MB/s\u001b[0m eta \u001b[36m0:00:00\u001b[0m\n",
            "\u001b[2K     \u001b[90m━━━━━━━━━━━━━━━━━━━━━━━━━━━━━━━━━━━━━━━━\u001b[0m \u001b[32m2.0/2.0 MB\u001b[0m \u001b[31m72.2 MB/s\u001b[0m eta \u001b[36m0:00:00\u001b[0m\n",
            "\u001b[2K     \u001b[90m━━━━━━━━━━━━━━━━━━━━━━━━━━━━━━━━━━━━━━━━\u001b[0m \u001b[32m75.6/75.6 kB\u001b[0m \u001b[31m8.0 MB/s\u001b[0m eta \u001b[36m0:00:00\u001b[0m\n",
            "\u001b[2K     \u001b[90m━━━━━━━━━━━━━━━━━━━━━━━━━━━━━━━━━━━━━━━━\u001b[0m \u001b[32m50.8/50.8 kB\u001b[0m \u001b[31m7.7 MB/s\u001b[0m eta \u001b[36m0:00:00\u001b[0m\n",
            "\u001b[2K     \u001b[90m━━━━━━━━━━━━━━━━━━━━━━━━━━━━━━━━━━━━━━━━\u001b[0m \u001b[32m78.6/78.6 kB\u001b[0m \u001b[31m12.0 MB/s\u001b[0m eta \u001b[36m0:00:00\u001b[0m\n",
            "\u001b[2K     \u001b[90m━━━━━━━━━━━━━━━━━━━━━━━━━━━━━━━━━━━━━━━━\u001b[0m \u001b[32m2.4/2.4 MB\u001b[0m \u001b[31m82.9 MB/s\u001b[0m eta \u001b[36m0:00:00\u001b[0m\n",
            "\u001b[2K     \u001b[90m━━━━━━━━━━━━━━━━━━━━━━━━━━━━━━━━━━━━━━━━\u001b[0m \u001b[32m92.0/92.0 kB\u001b[0m \u001b[31m15.1 MB/s\u001b[0m eta \u001b[36m0:00:00\u001b[0m\n",
            "\u001b[2K     \u001b[90m━━━━━━━━━━━━━━━━━━━━━━━━━━━━━━━━━━━━━━━━\u001b[0m \u001b[32m60.8/60.8 kB\u001b[0m \u001b[31m10.3 MB/s\u001b[0m eta \u001b[36m0:00:00\u001b[0m\n",
            "\u001b[2K     \u001b[90m━━━━━━━━━━━━━━━━━━━━━━━━━━━━━━━━━━━━━━━━\u001b[0m \u001b[32m5.4/5.4 MB\u001b[0m \u001b[31m109.3 MB/s\u001b[0m eta \u001b[36m0:00:00\u001b[0m\n",
            "\u001b[2K     \u001b[90m━━━━━━━━━━━━━━━━━━━━━━━━━━━━━━━━━━━━━━━━\u001b[0m \u001b[32m6.8/6.8 MB\u001b[0m \u001b[31m112.3 MB/s\u001b[0m eta \u001b[36m0:00:00\u001b[0m\n",
            "\u001b[2K     \u001b[90m━━━━━━━━━━━━━━━━━━━━━━━━━━━━━━━━━━━━━━━━\u001b[0m \u001b[32m67.3/67.3 kB\u001b[0m \u001b[31m8.7 MB/s\u001b[0m eta \u001b[36m0:00:00\u001b[0m\n",
            "\u001b[?25h  Installing build dependencies ... \u001b[?25l\u001b[?25hdone\n",
            "  Getting requirements to build wheel ... \u001b[?25l\u001b[?25hdone\n",
            "  Preparing metadata (pyproject.toml) ... \u001b[?25l\u001b[?25hdone\n",
            "\u001b[2K     \u001b[90m━━━━━━━━━━━━━━━━━━━━━━━━━━━━━━━━━━━━━━━━\u001b[0m \u001b[32m283.7/283.7 kB\u001b[0m \u001b[31m31.4 MB/s\u001b[0m eta \u001b[36m0:00:00\u001b[0m\n",
            "\u001b[2K     \u001b[90m━━━━━━━━━━━━━━━━━━━━━━━━━━━━━━━━━━━━━━━━\u001b[0m \u001b[32m1.6/1.6 MB\u001b[0m \u001b[31m83.3 MB/s\u001b[0m eta \u001b[36m0:00:00\u001b[0m\n",
            "\u001b[2K     \u001b[90m━━━━━━━━━━━━━━━━━━━━━━━━━━━━━━━━━━━━━━━━\u001b[0m \u001b[32m67.6/67.6 kB\u001b[0m \u001b[31m10.7 MB/s\u001b[0m eta \u001b[36m0:00:00\u001b[0m\n",
            "\u001b[2K     \u001b[90m━━━━━━━━━━━━━━━━━━━━━━━━━━━━━━━━━━━━━━━━\u001b[0m \u001b[32m3.0/3.0 MB\u001b[0m \u001b[31m98.9 MB/s\u001b[0m eta \u001b[36m0:00:00\u001b[0m\n",
            "\u001b[2K     \u001b[90m━━━━━━━━━━━━━━━━━━━━━━━━━━━━━━━━━━━━━━━━\u001b[0m \u001b[32m342.2/342.2 kB\u001b[0m \u001b[31m41.5 MB/s\u001b[0m eta \u001b[36m0:00:00\u001b[0m\n",
            "\u001b[2K     \u001b[90m━━━━━━━━━━━━━━━━━━━━━━━━━━━━━━━━━━━━━━━━\u001b[0m \u001b[32m207.3/207.3 kB\u001b[0m \u001b[31m29.1 MB/s\u001b[0m eta \u001b[36m0:00:00\u001b[0m\n",
            "\u001b[2K     \u001b[90m━━━━━━━━━━━━━━━━━━━━━━━━━━━━━━━━━━━━━━━━\u001b[0m \u001b[32m77.9/77.9 kB\u001b[0m \u001b[31m10.9 MB/s\u001b[0m eta \u001b[36m0:00:00\u001b[0m\n",
            "\u001b[2K     \u001b[90m━━━━━━━━━━━━━━━━━━━━━━━━━━━━━━━━━━━━━━━━\u001b[0m \u001b[32m58.3/58.3 kB\u001b[0m \u001b[31m8.1 MB/s\u001b[0m eta \u001b[36m0:00:00\u001b[0m\n",
            "\u001b[2K     \u001b[90m━━━━━━━━━━━━━━━━━━━━━━━━━━━━━━━━━━━━━━━━\u001b[0m \u001b[32m21.6/21.6 MB\u001b[0m \u001b[31m29.0 MB/s\u001b[0m eta \u001b[36m0:00:00\u001b[0m\n",
            "\u001b[2K     \u001b[90m━━━━━━━━━━━━━━━━━━━━━━━━━━━━━━━━━━━━━━━━\u001b[0m \u001b[32m467.7/467.7 kB\u001b[0m \u001b[31m40.2 MB/s\u001b[0m eta \u001b[36m0:00:00\u001b[0m\n",
            "\u001b[2K     \u001b[90m━━━━━━━━━━━━━━━━━━━━━━━━━━━━━━━━━━━━━━━━\u001b[0m \u001b[32m71.9/71.9 kB\u001b[0m \u001b[31m11.8 MB/s\u001b[0m eta \u001b[36m0:00:00\u001b[0m\n",
            "\u001b[2K     \u001b[90m━━━━━━━━━━━━━━━━━━━━━━━━━━━━━━━━━━━━━━━━\u001b[0m \u001b[32m53.6/53.6 kB\u001b[0m \u001b[31m8.5 MB/s\u001b[0m eta \u001b[36m0:00:00\u001b[0m\n",
            "\u001b[2K     \u001b[90m━━━━━━━━━━━━━━━━━━━━━━━━━━━━━━━━━━━━━━━━\u001b[0m \u001b[32m62.7/62.7 kB\u001b[0m \u001b[31m9.6 MB/s\u001b[0m eta \u001b[36m0:00:00\u001b[0m\n",
            "\u001b[2K     \u001b[90m━━━━━━━━━━━━━━━━━━━━━━━━━━━━━━━━━━━━━━━━\u001b[0m \u001b[32m46.0/46.0 kB\u001b[0m \u001b[31m7.4 MB/s\u001b[0m eta \u001b[36m0:00:00\u001b[0m\n",
            "\u001b[2K     \u001b[90m━━━━━━━━━━━━━━━━━━━━━━━━━━━━━━━━━━━━━━━━\u001b[0m \u001b[32m856.7/856.7 kB\u001b[0m \u001b[31m68.5 MB/s\u001b[0m eta \u001b[36m0:00:00\u001b[0m\n",
            "\u001b[2K     \u001b[90m━━━━━━━━━━━━━━━━━━━━━━━━━━━━━━━━━━━━━━━━\u001b[0m \u001b[32m98.7/98.7 kB\u001b[0m \u001b[31m14.3 MB/s\u001b[0m eta \u001b[36m0:00:00\u001b[0m\n",
            "\u001b[2K     \u001b[90m━━━━━━━━━━━━━━━━━━━━━━━━━━━━━━━━━━━━━━━━\u001b[0m \u001b[32m341.4/341.4 kB\u001b[0m \u001b[31m31.9 MB/s\u001b[0m eta \u001b[36m0:00:00\u001b[0m\n",
            "\u001b[2K     \u001b[90m━━━━━━━━━━━━━━━━━━━━━━━━━━━━━━━━━━━━━━━━\u001b[0m \u001b[32m3.4/3.4 MB\u001b[0m \u001b[31m97.3 MB/s\u001b[0m eta \u001b[36m0:00:00\u001b[0m\n",
            "\u001b[2K     \u001b[90m━━━━━━━━━━━━━━━━━━━━━━━━━━━━━━━━━━━━━━━━\u001b[0m \u001b[32m1.3/1.3 MB\u001b[0m \u001b[31m87.5 MB/s\u001b[0m eta \u001b[36m0:00:00\u001b[0m\n",
            "\u001b[2K     \u001b[90m━━━━━━━━━━━━━━━━━━━━━━━━━━━━━━━━━━━━━━━━\u001b[0m \u001b[32m130.2/130.2 kB\u001b[0m \u001b[31m19.5 MB/s\u001b[0m eta \u001b[36m0:00:00\u001b[0m\n",
            "\u001b[2K     \u001b[90m━━━━━━━━━━━━━━━━━━━━━━━━━━━━━━━━━━━━━━━━\u001b[0m \u001b[32m194.4/194.4 kB\u001b[0m \u001b[31m27.3 MB/s\u001b[0m eta \u001b[36m0:00:00\u001b[0m\n",
            "\u001b[2K     \u001b[90m━━━━━━━━━━━━━━━━━━━━━━━━━━━━━━━━━━━━━━━━\u001b[0m \u001b[32m2.1/2.1 MB\u001b[0m \u001b[31m97.9 MB/s\u001b[0m eta \u001b[36m0:00:00\u001b[0m\n",
            "\u001b[2K     \u001b[90m━━━━━━━━━━━━━━━━━━━━━━━━━━━━━━━━━━━━━━━━\u001b[0m \u001b[32m3.0/3.0 MB\u001b[0m \u001b[31m110.9 MB/s\u001b[0m eta \u001b[36m0:00:00\u001b[0m\n",
            "\u001b[2K     \u001b[90m━━━━━━━━━━━━━━━━━━━━━━━━━━━━━━━━━━━━━━━━\u001b[0m \u001b[32m307.7/307.7 kB\u001b[0m \u001b[31m40.8 MB/s\u001b[0m eta \u001b[36m0:00:00\u001b[0m\n",
            "\u001b[2K     \u001b[90m━━━━━━━━━━━━━━━━━━━━━━━━━━━━━━━━━━━━━━━━\u001b[0m \u001b[32m91.8/91.8 kB\u001b[0m \u001b[31m12.5 MB/s\u001b[0m eta \u001b[36m0:00:00\u001b[0m\n",
            "\u001b[2K     \u001b[90m━━━━━━━━━━━━━━━━━━━━━━━━━━━━━━━━━━━━━━━━\u001b[0m \u001b[32m86.8/86.8 kB\u001b[0m \u001b[31m12.6 MB/s\u001b[0m eta \u001b[36m0:00:00\u001b[0m\n",
            "\u001b[?25h  Building wheel for docx2txt (setup.py) ... \u001b[?25l\u001b[?25hdone\n",
            "  Building wheel for pypika (pyproject.toml) ... \u001b[?25l\u001b[?25hdone\n"
          ]
        }
      ]
    },
    {
      "cell_type": "code",
      "source": [],
      "metadata": {
        "id": "En6m3jT37Qsw"
      },
      "execution_count": null,
      "outputs": []
    },
    {
      "cell_type": "code",
      "source": [
        "# Import necessary libraries and modules\n",
        "import os\n",
        "import json\n",
        "from typing import Union, List, Tuple, Dict\n",
        "from datetime import datetime\n",
        "from random import randint"
      ],
      "metadata": {
        "id": "0f4yqRfLyrMm"
      },
      "execution_count": null,
      "outputs": []
    },
    {
      "cell_type": "code",
      "source": [
        "import os\n",
        "from google.colab import userdata\n",
        "\n",
        "os.environ[\"GROQ_API_KEY\"] = \"YOUR API KEY\""
      ],
      "metadata": {
        "id": "8Z_nQnj2y0-5"
      },
      "execution_count": null,
      "outputs": []
    },
    {
      "cell_type": "code",
      "source": [],
      "metadata": {
        "id": "HEVu7BYRzKgZ"
      },
      "execution_count": null,
      "outputs": []
    },
    {
      "cell_type": "code",
      "source": [
        "# Import necessary classes and functions after installation\n",
        "from langchain_core.agents import AgentFinish\n",
        "from langchain.schema import AgentFinish\n",
        "import langchain_groq\n",
        "from langchain_groq import ChatGroq\n",
        "from crewai import Crew, Agent, Task, Process\n",
        "from langchain_community.tools import DuckDuckGoSearchRun\n",
        "from crewai_tools import tool"
      ],
      "metadata": {
        "id": "QPnQM0YEzdJW"
      },
      "execution_count": null,
      "outputs": []
    },
    {
      "cell_type": "code",
      "source": [
        "\n",
        "# Initialize the Groq language model\n",
        "GROQ_LLM = ChatGroq(\n",
        "    api_key=os.getenv(\"GROQ_API_KEY\"),\n",
        "    model=\"llama3-70b-8192\"\n",
        ")"
      ],
      "metadata": {
        "id": "lSKccHC00HoS"
      },
      "execution_count": null,
      "outputs": []
    },
    {
      "cell_type": "code",
      "source": [
        "# Define the DuckDuckGo search tool using crewai_tools\n",
        "@tool('DuckDuckGoSearch')\n",
        "def search(search_query: str):\n",
        "    \"\"\"Search the web for information on a given topic\"\"\"\n",
        "    return DuckDuckGoSearchRun().run(search_query)"
      ],
      "metadata": {
        "id": "Zd0uSuY70LQJ"
      },
      "execution_count": null,
      "outputs": []
    },
    {
      "cell_type": "code",
      "source": [
        "\n",
        "# Define the Researcher agent\n",
        "researcher = Agent(\n",
        "    role='Senior Research Analyst',\n",
        "    goal='Uncover cutting-edge developments in Generative AI',\n",
        "    backstory=\"\"\"You work at a leading tech company.\n",
        "    Your expertise lies in identifying emerging trends.\n",
        "    You have a knack for dissecting complex data and presenting actionable insights.\"\"\",\n",
        "    verbose=True,\n",
        "    allow_delegation=False,\n",
        "    llm=GROQ_LLM,\n",
        "    tools=[search],\n",
        ")\n",
        "\n",
        "# Define the Writer agent\n",
        "writer = Agent(\n",
        "    role='Tech Content Strategist',\n",
        "    goal='Craft compelling content on tech advancements',\n",
        "    backstory=\"\"\"You are a renowned Content Strategist, known for your insightful and engaging articles.\n",
        "    You transform complex concepts into compelling narratives.\"\"\",\n",
        "    verbose=True,\n",
        "    allow_delegation=False,\n",
        "    llm=GROQ_LLM,\n",
        ")\n",
        "\n",
        "# Define the first task\n",
        "task1 = Task(\n",
        "    description=\"\"\"Conduct a comprehensive analysis of the latest advancements in Generative AI.\n",
        "    Identify key trends, breakthrough technologies, and potential industry impacts.\"\"\",\n",
        "    expected_output=\"Full analysis report in comprehensive paragraphs\",\n",
        "    agent=researcher,\n",
        ")\n",
        "\n",
        "# Define the second task\n",
        "task2 = Task(\n",
        "    description=\"\"\"Using the insights provided, develop an engaging blog post that highlights the most significant advancements in Generative AI.\n",
        "    Your post should be informative yet accessible, catering to a tech-savvy audience.\n",
        "    Make it sound cool, avoid complex words so it doesn't sound like AI.\"\"\",\n",
        "    expected_output=\"Full blog post of at least 2 paragraphs\",\n",
        "    agent=writer,\n",
        ")\n",
        "\n"
      ],
      "metadata": {
        "id": "880-PP5cyiA5"
      },
      "execution_count": null,
      "outputs": []
    },
    {
      "cell_type": "code",
      "source": [],
      "metadata": {
        "id": "jzi6C4BcXu6x"
      },
      "execution_count": null,
      "outputs": []
    },
    {
      "cell_type": "code",
      "source": [
        "# Function to print agent output\n",
        "def print_agent_output(step_output, crew_name):\n",
        "    print(f\"{crew_name} step output: {step_output}\")\n",
        "\n",
        "# Create the Crew with agents and tasks\n",
        "crew = Crew(\n",
        "    agents=[researcher, writer],\n",
        "    tasks=[task1, task2],\n",
        "    verbose=2,\n",
        "    step_callback=lambda x: print_agent_output(x, \"Crew\"),\n",
        ")\n",
        "\n"
      ],
      "metadata": {
        "colab": {
          "base_uri": "https://localhost:8080/"
        },
        "id": "UIQZctbG0fHL",
        "outputId": "bf94e612-2149-4b7f-a05a-9321f23fcd21"
      },
      "execution_count": null,
      "outputs": [
        {
          "output_type": "stream",
          "name": "stderr",
          "text": [
            "WARNING:opentelemetry.trace:Overriding of current TracerProvider is not allowed\n"
          ]
        }
      ]
    },
    {
      "cell_type": "code",
      "source": [
        "# Kickoff the Crew tasks and get the result\n",
        "result = crew.kickoff()\n",
        "print(result)\n"
      ],
      "metadata": {
        "colab": {
          "base_uri": "https://localhost:8080/"
        },
        "id": "_ehKaZ-g0h4X",
        "outputId": "a24a86e1-ad14-4ec2-dda9-2eda718d4981"
      },
      "execution_count": null,
      "outputs": [
        {
          "output_type": "stream",
          "name": "stdout",
          "text": [
            "\u001b[1m\u001b[95m [DEBUG]: == Working Agent: Senior Research Analyst\u001b[00m\n",
            "\u001b[1m\u001b[95m [INFO]: == Starting Task: Conduct a comprehensive analysis of the latest advancements in Generative AI.\n",
            "    Identify key trends, breakthrough technologies, and potential industry impacts.\u001b[00m\n",
            "\n",
            "\n",
            "\u001b[1m> Entering new CrewAgentExecutor chain...\u001b[0m\n",
            "\u001b[32;1m\u001b[1;3mI need to initiate my research on the latest advancements in Generative AI.\n",
            "\n",
            "Action: DuckDuckGoSearch\n",
            "Action Input: {\"search_query\": \"latest developments in Generative AI\"}\u001b[0m\u001b[95m \n",
            "\n",
            "A Gantt chart shows estimated ranges for AI technology to achieve human-level performance, by technical capability area, and how those estimates have shifted sooner rather than later when comparing 2017 (pre-generative AI) estimates with 2023 (post-recent generative AI developments) estimates. The latest median estimates show, by technical ... August 17, 2023. Contributor: Lori Perri. Innovations in and around generative AI dominate and have transformative impact. The 2023 Gartner Hype Cycle™ for Artificial Intelligence (AI) identifies innovations and techniques that offer significant and even transformational benefits while also addressing the limitations and risks of fallible ... Yuichiro Chino/Getty Images. Every year, Gartner identifies 25 key emerging technologies to watch in its Hype Cycle for Emerging Technologies study. In the 2023 report, unsurprisingly, generative ... Generative AI can be thought of as a machine-learning model that is trained to create new data, rather than making a prediction about a specific dataset. A generative AI system is one that learns to generate more objects that look like the data it was trained on. \"When it comes to the actual machinery underlying generative AI and other types ... LinkedIn offers 250 free AI courses until April 5, helping professionals, including SEO experts, adapt to changing skill requirements. Stay up-to-date with the latest developments in generative AI ...\n",
            "\u001b[00m\n",
            "Crew step output: [(AgentAction(tool='DuckDuckGoSearch', tool_input='{\"search_query\": \"latest developments in Generative AI\"}', log='I need to initiate my research on the latest advancements in Generative AI.\\n\\nAction: DuckDuckGoSearch\\nAction Input: {\"search_query\": \"latest developments in Generative AI\"}'), 'A Gantt chart shows estimated ranges for AI technology to achieve human-level performance, by technical capability area, and how those estimates have shifted sooner rather than later when comparing 2017 (pre-generative AI) estimates with 2023 (post-recent generative AI developments) estimates. The latest median estimates show, by technical ... August 17, 2023. Contributor: Lori Perri. Innovations in and around generative AI dominate and have transformative impact. The 2023 Gartner Hype Cycle™ for Artificial Intelligence (AI) identifies innovations and techniques that offer significant and even transformational benefits while also addressing the limitations and risks of fallible ... Yuichiro Chino/Getty Images. Every year, Gartner identifies 25 key emerging technologies to watch in its Hype Cycle for Emerging Technologies study. In the 2023 report, unsurprisingly, generative ... Generative AI can be thought of as a machine-learning model that is trained to create new data, rather than making a prediction about a specific dataset. A generative AI system is one that learns to generate more objects that look like the data it was trained on. \"When it comes to the actual machinery underlying generative AI and other types ... LinkedIn offers 250 free AI courses until April 5, helping professionals, including SEO experts, adapt to changing skill requirements. Stay up-to-date with the latest developments in generative AI ...')]\n",
            "\u001b[32;1m\u001b[1;3mThought:\n",
            "I need to gather more information on the current state of Generative AI.\n",
            "\n",
            "Action: DuckDuckGoSearch\n",
            "Action Input: {\"search_query\": \"current state of Generative AI\"}\u001b[0m\u001b[95m \n",
            "\n",
            "The latest annual McKinsey Global Survey on the current state of AI confirms the explosive growth of generative AI (gen AI) tools. Less than a year after many of these tools debuted, one-third of our survey respondents say their organizations are using gen AI regularly in at least one business function. Amid recent advances, AI has risen from a ... The emergence of publicly accessible artificial intelligence (AI) large language models such as ChatGPT has given rise to global conversations on the implications of AI capabilities. Emergent ... In 2024, generative AI might actually become useful for the regular, non-tech person, and we are going to see more people tinkering with a million little AI models. State-of-the-art AI models ... Since ChatGPT was released in late 2022, generative AI has been THE story. First, business leaders urgently started learning what GenAI is and then tried to understand the implications, threats ... A generative AI system is one that learns to generate more objects that look like the data it was trained on. \"When it comes to the actual machinery underlying generative AI and other types of AI, the distinctions can be a little bit blurry. Oftentimes, the same algorithms can be used for both,\" says Phillip Isola, an associate professor of ...\n",
            "\u001b[00m\n",
            "Crew step output: [(AgentAction(tool='DuckDuckGoSearch', tool_input='{\"search_query\": \"current state of Generative AI\"}', log='Thought:\\nI need to gather more information on the current state of Generative AI.\\n\\nAction: DuckDuckGoSearch\\nAction Input: {\"search_query\": \"current state of Generative AI\"}'), 'The latest annual McKinsey Global Survey on the current state of AI confirms the explosive growth of generative AI (gen AI) tools. Less than a year after many of these tools debuted, one-third of our survey respondents say their organizations are using gen AI regularly in at least one business function. Amid recent advances, AI has risen from a ... The emergence of publicly accessible artificial intelligence (AI) large language models such as ChatGPT has given rise to global conversations on the implications of AI capabilities. Emergent ... In 2024, generative AI might actually become useful for the regular, non-tech person, and we are going to see more people tinkering with a million little AI models. State-of-the-art AI models ... Since ChatGPT was released in late 2022, generative AI has been THE story. First, business leaders urgently started learning what GenAI is and then tried to understand the implications, threats ... A generative AI system is one that learns to generate more objects that look like the data it was trained on. \"When it comes to the actual machinery underlying generative AI and other types of AI, the distinctions can be a little bit blurry. Oftentimes, the same algorithms can be used for both,\" says Phillip Isola, an associate professor of ...')]\n",
            "\u001b[32;1m\u001b[1;3m\u001b[0mCrew step output: [(AgentAction(tool='_Exception', tool_input=\"\\nI did it wrong. Invalid Format: I missed the 'Action:' after 'Thought:'. I will do right next, and don't use a tool I have already used.\\n\\nIf you don't need to use any more tools, you must give your best complete final answer, make sure it satisfy the expect criteria, use the EXACT format below:\\n\\nThought: I now can give a great answer\\nFinal Answer: my best complete final answer to the task.\\n\\n\", log=''), \"\\nI did it wrong. Invalid Format: I missed the 'Action:' after 'Thought:'. I will do right next, and don't use a tool I have already used.\\n\\nIf you don't need to use any more tools, you must give your best complete final answer, make sure it satisfy the expect criteria, use the EXACT format below:\\n\\nThought: I now can give a great answer\\nFinal Answer: my best complete final answer to the task.\\n\\n\")]\n",
            "Crew step output: return_values={'output': 'The latest advancements in Generative AI have led to transformative innovations and breakthrough technologies that are revolutionizing industries and redefining the capabilities of artificial intelligence. According to the 2023 Gartner Hype Cycle for Artificial Intelligence, generative AI dominates the landscape, offering significant and even transformational benefits. The latest median estimates show that the timeline for AI technology to achieve human-level performance has shifted sooner rather than later, indicating a rapid acceleration in the development of generative AI.\\n\\nThe current state of Generative AI is characterized by explosive growth, with one-third of organizations using gen AI regularly in at least one business function, according to the latest McKinsey Global Survey. The emergence of publicly accessible AI large language models such as ChatGPT has sparked global conversations on the implications of AI capabilities. In 2024, generative AI is expected to become more accessible and useful for non-tech individuals, leading to increased adoption and innovation.\\n\\nThe machinery underlying generative AI and other types of AI can be complex, with algorithms often being used for both generative and predictive purposes. However, the distinctions between these types of AI are becoming increasingly important as the technology advances. As Phillip Isola, an associate professor, notes, \"When it comes to the actual machinery underlying generative AI and other types of AI, the distinctions can be a little bit blurry.\"\\n\\nThe potential industry impacts of generative AI are vast, with the technology poised to transform industries such as healthcare, finance, and education. As professionals, including SEO experts, adapt to changing skill requirements, LinkedIn is offering 250 free AI courses to help them stay up-to-date with the latest developments in generative AI.\\n\\nIn conclusion, the latest advancements in generative AI are driving innovation and transformation across industries. As the technology continues to evolve, it is essential for professionals and organizations to stay informed and adapt to the changing landscape.'} log='Thought: I now can give a great answer\\nFinal Answer: \\n\\nThe latest advancements in Generative AI have led to transformative innovations and breakthrough technologies that are revolutionizing industries and redefining the capabilities of artificial intelligence. According to the 2023 Gartner Hype Cycle for Artificial Intelligence, generative AI dominates the landscape, offering significant and even transformational benefits. The latest median estimates show that the timeline for AI technology to achieve human-level performance has shifted sooner rather than later, indicating a rapid acceleration in the development of generative AI.\\n\\nThe current state of Generative AI is characterized by explosive growth, with one-third of organizations using gen AI regularly in at least one business function, according to the latest McKinsey Global Survey. The emergence of publicly accessible AI large language models such as ChatGPT has sparked global conversations on the implications of AI capabilities. In 2024, generative AI is expected to become more accessible and useful for non-tech individuals, leading to increased adoption and innovation.\\n\\nThe machinery underlying generative AI and other types of AI can be complex, with algorithms often being used for both generative and predictive purposes. However, the distinctions between these types of AI are becoming increasingly important as the technology advances. As Phillip Isola, an associate professor, notes, \"When it comes to the actual machinery underlying generative AI and other types of AI, the distinctions can be a little bit blurry.\"\\n\\nThe potential industry impacts of generative AI are vast, with the technology poised to transform industries such as healthcare, finance, and education. As professionals, including SEO experts, adapt to changing skill requirements, LinkedIn is offering 250 free AI courses to help them stay up-to-date with the latest developments in generative AI.\\n\\nIn conclusion, the latest advancements in generative AI are driving innovation and transformation across industries. As the technology continues to evolve, it is essential for professionals and organizations to stay informed and adapt to the changing landscape.'\n",
            "\u001b[32;1m\u001b[1;3mThought: I now can give a great answer\n",
            "Final Answer: \n",
            "\n",
            "The latest advancements in Generative AI have led to transformative innovations and breakthrough technologies that are revolutionizing industries and redefining the capabilities of artificial intelligence. According to the 2023 Gartner Hype Cycle for Artificial Intelligence, generative AI dominates the landscape, offering significant and even transformational benefits. The latest median estimates show that the timeline for AI technology to achieve human-level performance has shifted sooner rather than later, indicating a rapid acceleration in the development of generative AI.\n",
            "\n",
            "The current state of Generative AI is characterized by explosive growth, with one-third of organizations using gen AI regularly in at least one business function, according to the latest McKinsey Global Survey. The emergence of publicly accessible AI large language models such as ChatGPT has sparked global conversations on the implications of AI capabilities. In 2024, generative AI is expected to become more accessible and useful for non-tech individuals, leading to increased adoption and innovation.\n",
            "\n",
            "The machinery underlying generative AI and other types of AI can be complex, with algorithms often being used for both generative and predictive purposes. However, the distinctions between these types of AI are becoming increasingly important as the technology advances. As Phillip Isola, an associate professor, notes, \"When it comes to the actual machinery underlying generative AI and other types of AI, the distinctions can be a little bit blurry.\"\n",
            "\n",
            "The potential industry impacts of generative AI are vast, with the technology poised to transform industries such as healthcare, finance, and education. As professionals, including SEO experts, adapt to changing skill requirements, LinkedIn is offering 250 free AI courses to help them stay up-to-date with the latest developments in generative AI.\n",
            "\n",
            "In conclusion, the latest advancements in generative AI are driving innovation and transformation across industries. As the technology continues to evolve, it is essential for professionals and organizations to stay informed and adapt to the changing landscape.\u001b[0m\n",
            "\n",
            "\u001b[1m> Finished chain.\u001b[0m\n",
            "\u001b[1m\u001b[92m [DEBUG]: == [Senior Research Analyst] Task output: The latest advancements in Generative AI have led to transformative innovations and breakthrough technologies that are revolutionizing industries and redefining the capabilities of artificial intelligence. According to the 2023 Gartner Hype Cycle for Artificial Intelligence, generative AI dominates the landscape, offering significant and even transformational benefits. The latest median estimates show that the timeline for AI technology to achieve human-level performance has shifted sooner rather than later, indicating a rapid acceleration in the development of generative AI.\n",
            "\n",
            "The current state of Generative AI is characterized by explosive growth, with one-third of organizations using gen AI regularly in at least one business function, according to the latest McKinsey Global Survey. The emergence of publicly accessible AI large language models such as ChatGPT has sparked global conversations on the implications of AI capabilities. In 2024, generative AI is expected to become more accessible and useful for non-tech individuals, leading to increased adoption and innovation.\n",
            "\n",
            "The machinery underlying generative AI and other types of AI can be complex, with algorithms often being used for both generative and predictive purposes. However, the distinctions between these types of AI are becoming increasingly important as the technology advances. As Phillip Isola, an associate professor, notes, \"When it comes to the actual machinery underlying generative AI and other types of AI, the distinctions can be a little bit blurry.\"\n",
            "\n",
            "The potential industry impacts of generative AI are vast, with the technology poised to transform industries such as healthcare, finance, and education. As professionals, including SEO experts, adapt to changing skill requirements, LinkedIn is offering 250 free AI courses to help them stay up-to-date with the latest developments in generative AI.\n",
            "\n",
            "In conclusion, the latest advancements in generative AI are driving innovation and transformation across industries. As the technology continues to evolve, it is essential for professionals and organizations to stay informed and adapt to the changing landscape.\n",
            "\n",
            "\u001b[00m\n",
            "\u001b[1m\u001b[95m [DEBUG]: == Working Agent: Tech Content Strategist\u001b[00m\n",
            "\u001b[1m\u001b[95m [INFO]: == Starting Task: Using the insights provided, develop an engaging blog post that highlights the most significant advancements in Generative AI.\n",
            "    Your post should be informative yet accessible, catering to a tech-savvy audience.\n",
            "    Make it sound cool, avoid complex words so it doesn't sound like AI.\u001b[00m\n",
            "\n",
            "\n",
            "\u001b[1m> Entering new CrewAgentExecutor chain...\u001b[0m\n",
            "Crew step output: return_values={'output': '**Revolutionizing Industries: The Transformative Power of Generative AI**\\n\\nThe future is here, and it\\'s more exciting than ever. The latest advancements in Generative AI have opened the floodgates to transformative innovations and breakthrough technologies that are revolutionizing industries and redefining the capabilities of artificial intelligence. According to the 2023 Gartner Hype Cycle for Artificial Intelligence, generative AI dominates the landscape, offering significant and even transformational benefits. The latest median estimates show that the timeline for AI technology to achieve human-level performance has shifted sooner rather than later, indicating a rapid acceleration in the development of generative AI.\\n\\nThe current state of Generative AI is characterized by explosive growth, with one-third of organizations using gen AI regularly in at least one business function, according to the latest McKinsey Global Survey. The emergence of publicly accessible AI large language models such as ChatGPT has sparked global conversations on the implications of AI capabilities. In 2024, generative AI is expected to become more accessible and useful for non-tech individuals, leading to increased adoption and innovation. As Phillip Isola, an associate professor, notes, \"When it comes to the actual machinery underlying generative AI and other types of AI, the distinctions can be a little bit blurry.\" However, it\\'s essential to understand the differences between generative AI and other types of AI, as the technology advances. The potential industry impacts of generative AI are vast, with the technology poised to transform industries such as healthcare, finance, and education.\\n\\nThe implications of generative AI are far-reaching, and professionals must adapt to changing skill requirements. To stay ahead of the curve, LinkedIn is offering 250 free AI courses to help professionals stay up-to-date with the latest developments in generative AI. As the technology continues to evolve, it\\'s essential for professionals and organizations to stay informed and adapt to the changing landscape. The future of work is being rewritten, and it\\'s crucial to be a part of the revolution. By embracing the transformative power of generative AI, we can unlock new possibilities, drive innovation, and shape the future of industries.\\n\\nIn conclusion, the latest advancements in generative AI are driving innovation and transformation across industries. As the technology continues to evolve, it\\'s essential for professionals and organizations to stay informed and adapt to the changing landscape. The future is bright, and the possibilities are endless. Are you ready to unlock the full potential of generative AI?'} log='I now can give a great answer.\\n\\nFinal Answer:\\n\\n**Revolutionizing Industries: The Transformative Power of Generative AI**\\n\\nThe future is here, and it\\'s more exciting than ever. The latest advancements in Generative AI have opened the floodgates to transformative innovations and breakthrough technologies that are revolutionizing industries and redefining the capabilities of artificial intelligence. According to the 2023 Gartner Hype Cycle for Artificial Intelligence, generative AI dominates the landscape, offering significant and even transformational benefits. The latest median estimates show that the timeline for AI technology to achieve human-level performance has shifted sooner rather than later, indicating a rapid acceleration in the development of generative AI.\\n\\nThe current state of Generative AI is characterized by explosive growth, with one-third of organizations using gen AI regularly in at least one business function, according to the latest McKinsey Global Survey. The emergence of publicly accessible AI large language models such as ChatGPT has sparked global conversations on the implications of AI capabilities. In 2024, generative AI is expected to become more accessible and useful for non-tech individuals, leading to increased adoption and innovation. As Phillip Isola, an associate professor, notes, \"When it comes to the actual machinery underlying generative AI and other types of AI, the distinctions can be a little bit blurry.\" However, it\\'s essential to understand the differences between generative AI and other types of AI, as the technology advances. The potential industry impacts of generative AI are vast, with the technology poised to transform industries such as healthcare, finance, and education.\\n\\nThe implications of generative AI are far-reaching, and professionals must adapt to changing skill requirements. To stay ahead of the curve, LinkedIn is offering 250 free AI courses to help professionals stay up-to-date with the latest developments in generative AI. As the technology continues to evolve, it\\'s essential for professionals and organizations to stay informed and adapt to the changing landscape. The future of work is being rewritten, and it\\'s crucial to be a part of the revolution. By embracing the transformative power of generative AI, we can unlock new possibilities, drive innovation, and shape the future of industries.\\n\\nIn conclusion, the latest advancements in generative AI are driving innovation and transformation across industries. As the technology continues to evolve, it\\'s essential for professionals and organizations to stay informed and adapt to the changing landscape. The future is bright, and the possibilities are endless. Are you ready to unlock the full potential of generative AI?'\n",
            "\u001b[32;1m\u001b[1;3mI now can give a great answer.\n",
            "\n",
            "Final Answer:\n",
            "\n",
            "**Revolutionizing Industries: The Transformative Power of Generative AI**\n",
            "\n",
            "The future is here, and it's more exciting than ever. The latest advancements in Generative AI have opened the floodgates to transformative innovations and breakthrough technologies that are revolutionizing industries and redefining the capabilities of artificial intelligence. According to the 2023 Gartner Hype Cycle for Artificial Intelligence, generative AI dominates the landscape, offering significant and even transformational benefits. The latest median estimates show that the timeline for AI technology to achieve human-level performance has shifted sooner rather than later, indicating a rapid acceleration in the development of generative AI.\n",
            "\n",
            "The current state of Generative AI is characterized by explosive growth, with one-third of organizations using gen AI regularly in at least one business function, according to the latest McKinsey Global Survey. The emergence of publicly accessible AI large language models such as ChatGPT has sparked global conversations on the implications of AI capabilities. In 2024, generative AI is expected to become more accessible and useful for non-tech individuals, leading to increased adoption and innovation. As Phillip Isola, an associate professor, notes, \"When it comes to the actual machinery underlying generative AI and other types of AI, the distinctions can be a little bit blurry.\" However, it's essential to understand the differences between generative AI and other types of AI, as the technology advances. The potential industry impacts of generative AI are vast, with the technology poised to transform industries such as healthcare, finance, and education.\n",
            "\n",
            "The implications of generative AI are far-reaching, and professionals must adapt to changing skill requirements. To stay ahead of the curve, LinkedIn is offering 250 free AI courses to help professionals stay up-to-date with the latest developments in generative AI. As the technology continues to evolve, it's essential for professionals and organizations to stay informed and adapt to the changing landscape. The future of work is being rewritten, and it's crucial to be a part of the revolution. By embracing the transformative power of generative AI, we can unlock new possibilities, drive innovation, and shape the future of industries.\n",
            "\n",
            "In conclusion, the latest advancements in generative AI are driving innovation and transformation across industries. As the technology continues to evolve, it's essential for professionals and organizations to stay informed and adapt to the changing landscape. The future is bright, and the possibilities are endless. Are you ready to unlock the full potential of generative AI?\u001b[0m\n",
            "\n",
            "\u001b[1m> Finished chain.\u001b[0m\n",
            "\u001b[1m\u001b[92m [DEBUG]: == [Tech Content Strategist] Task output: **Revolutionizing Industries: The Transformative Power of Generative AI**\n",
            "\n",
            "The future is here, and it's more exciting than ever. The latest advancements in Generative AI have opened the floodgates to transformative innovations and breakthrough technologies that are revolutionizing industries and redefining the capabilities of artificial intelligence. According to the 2023 Gartner Hype Cycle for Artificial Intelligence, generative AI dominates the landscape, offering significant and even transformational benefits. The latest median estimates show that the timeline for AI technology to achieve human-level performance has shifted sooner rather than later, indicating a rapid acceleration in the development of generative AI.\n",
            "\n",
            "The current state of Generative AI is characterized by explosive growth, with one-third of organizations using gen AI regularly in at least one business function, according to the latest McKinsey Global Survey. The emergence of publicly accessible AI large language models such as ChatGPT has sparked global conversations on the implications of AI capabilities. In 2024, generative AI is expected to become more accessible and useful for non-tech individuals, leading to increased adoption and innovation. As Phillip Isola, an associate professor, notes, \"When it comes to the actual machinery underlying generative AI and other types of AI, the distinctions can be a little bit blurry.\" However, it's essential to understand the differences between generative AI and other types of AI, as the technology advances. The potential industry impacts of generative AI are vast, with the technology poised to transform industries such as healthcare, finance, and education.\n",
            "\n",
            "The implications of generative AI are far-reaching, and professionals must adapt to changing skill requirements. To stay ahead of the curve, LinkedIn is offering 250 free AI courses to help professionals stay up-to-date with the latest developments in generative AI. As the technology continues to evolve, it's essential for professionals and organizations to stay informed and adapt to the changing landscape. The future of work is being rewritten, and it's crucial to be a part of the revolution. By embracing the transformative power of generative AI, we can unlock new possibilities, drive innovation, and shape the future of industries.\n",
            "\n",
            "In conclusion, the latest advancements in generative AI are driving innovation and transformation across industries. As the technology continues to evolve, it's essential for professionals and organizations to stay informed and adapt to the changing landscape. The future is bright, and the possibilities are endless. Are you ready to unlock the full potential of generative AI?\n",
            "\n",
            "\u001b[00m\n",
            "**Revolutionizing Industries: The Transformative Power of Generative AI**\n",
            "\n",
            "The future is here, and it's more exciting than ever. The latest advancements in Generative AI have opened the floodgates to transformative innovations and breakthrough technologies that are revolutionizing industries and redefining the capabilities of artificial intelligence. According to the 2023 Gartner Hype Cycle for Artificial Intelligence, generative AI dominates the landscape, offering significant and even transformational benefits. The latest median estimates show that the timeline for AI technology to achieve human-level performance has shifted sooner rather than later, indicating a rapid acceleration in the development of generative AI.\n",
            "\n",
            "The current state of Generative AI is characterized by explosive growth, with one-third of organizations using gen AI regularly in at least one business function, according to the latest McKinsey Global Survey. The emergence of publicly accessible AI large language models such as ChatGPT has sparked global conversations on the implications of AI capabilities. In 2024, generative AI is expected to become more accessible and useful for non-tech individuals, leading to increased adoption and innovation. As Phillip Isola, an associate professor, notes, \"When it comes to the actual machinery underlying generative AI and other types of AI, the distinctions can be a little bit blurry.\" However, it's essential to understand the differences between generative AI and other types of AI, as the technology advances. The potential industry impacts of generative AI are vast, with the technology poised to transform industries such as healthcare, finance, and education.\n",
            "\n",
            "The implications of generative AI are far-reaching, and professionals must adapt to changing skill requirements. To stay ahead of the curve, LinkedIn is offering 250 free AI courses to help professionals stay up-to-date with the latest developments in generative AI. As the technology continues to evolve, it's essential for professionals and organizations to stay informed and adapt to the changing landscape. The future of work is being rewritten, and it's crucial to be a part of the revolution. By embracing the transformative power of generative AI, we can unlock new possibilities, drive innovation, and shape the future of industries.\n",
            "\n",
            "In conclusion, the latest advancements in generative AI are driving innovation and transformation across industries. As the technology continues to evolve, it's essential for professionals and organizations to stay informed and adapt to the changing landscape. The future is bright, and the possibilities are endless. Are you ready to unlock the full potential of generative AI?\n"
          ]
        }
      ]
    },
    {
      "cell_type": "code",
      "source": [],
      "metadata": {
        "id": "A_11c_C4p0yp"
      },
      "execution_count": null,
      "outputs": []
    },
    {
      "cell_type": "code",
      "source": [],
      "metadata": {
        "id": "cU_Hyh1Mp0vY"
      },
      "execution_count": null,
      "outputs": []
    },
    {
      "cell_type": "markdown",
      "source": [
        "#Generated blog post by AI Agents"
      ],
      "metadata": {
        "id": "wO9dVPt_p2WY"
      }
    },
    {
      "cell_type": "markdown",
      "source": [
        "**Revolutionizing Industries: The Transformative Power of Generative AI**\n",
        "\n",
        "The future is here, and it's more exciting than ever. The latest advancements in Generative AI have opened the floodgates to transformative innovations and breakthrough technologies that are revolutionizing industries and redefining the capabilities of artificial intelligence. According to the 2023 Gartner Hype Cycle for Artificial Intelligence, generative AI dominates the landscape, offering significant and even transformational benefits. The latest median estimates show that the timeline for AI technology to achieve human-level performance has shifted sooner rather than later, indicating a rapid acceleration in the development of generative AI.\n",
        "\n",
        "The current state of Generative AI is characterized by explosive growth, with one-third of organizations using gen AI regularly in at least one business function, according to the latest McKinsey Global Survey. The emergence of publicly accessible AI large language models such as ChatGPT has sparked global conversations on the implications of AI capabilities. In 2024, generative AI is expected to become more accessible and useful for non-tech individuals, leading to increased adoption and innovation. As Phillip Isola, an associate professor, notes, \"When it comes to the actual machinery underlying generative AI and other types of AI, the distinctions can be a little bit blurry.\" However, it's essential to understand the differences between generative AI and other types of AI, as the technology advances. The potential industry impacts of generative AI are vast, with the technology poised to transform industries such as healthcare, finance, and education.\n",
        "\n",
        "The implications of generative AI are far-reaching, and professionals must adapt to changing skill requirements. To stay ahead of the curve, LinkedIn is offering 250 free AI courses to help professionals stay up-to-date with the latest developments in generative AI. As the technology continues to evolve, it's essential for professionals and organizations to stay informed and adapt to the changing landscape. The future of work is being rewritten, and it's crucial to be a part of the revolution. By embracing the transformative power of generative AI, we can unlock new possibilities, drive innovation, and shape the future of industries.\n",
        "\n",
        "In conclusion, the latest advancements in generative AI are driving innovation and transformation across industries. As the technology continues to evolve, it's essential for professionals and organizations to stay informed and adapt to the changing landscape. The future is bright, and the possibilities are endless. Are you ready to unlock the full potential of generative AI?"
      ],
      "metadata": {
        "id": "Ow6V9m-H5wTk"
      }
    },
    {
      "cell_type": "code",
      "source": [],
      "metadata": {
        "id": "_abkWbRtC4NN"
      },
      "execution_count": null,
      "outputs": []
    },
    {
      "cell_type": "code",
      "source": [],
      "metadata": {
        "id": "xpC-h4nceoGI"
      },
      "execution_count": null,
      "outputs": []
    },
    {
      "cell_type": "code",
      "source": [],
      "metadata": {
        "id": "-oWmTgL8eoCu"
      },
      "execution_count": null,
      "outputs": []
    },
    {
      "cell_type": "code",
      "source": [],
      "metadata": {
        "id": "6XPFwKu7eoAY"
      },
      "execution_count": null,
      "outputs": []
    }
  ]
}